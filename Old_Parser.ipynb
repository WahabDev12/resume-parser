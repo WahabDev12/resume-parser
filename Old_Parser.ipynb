{
  "cells": [
    {
      "cell_type": "markdown",
      "metadata": {
        "id": "ru3TB6e039zC"
      },
      "source": [
        "# Dependencies and Required Packages"
      ]
    },
    {
      "cell_type": "code",
      "execution_count": 1,
      "metadata": {
        "id": "rKUtY_y339zJ",
        "outputId": "f4885d74-94dc-4cc6-b258-52d9f0052999",
        "colab": {
          "base_uri": "https://localhost:8080/"
        }
      },
      "outputs": [
        {
          "output_type": "stream",
          "name": "stdout",
          "text": [
            "Requirement already satisfied: pdfminer.six in /usr/local/lib/python3.7/dist-packages (20211012)\n",
            "Requirement already satisfied: cryptography in /usr/local/lib/python3.7/dist-packages (from pdfminer.six) (36.0.0)\n",
            "Requirement already satisfied: chardet in /usr/local/lib/python3.7/dist-packages (from pdfminer.six) (3.0.4)\n",
            "Requirement already satisfied: cffi>=1.12 in /usr/local/lib/python3.7/dist-packages (from cryptography->pdfminer.six) (1.15.0)\n",
            "Requirement already satisfied: pycparser in /usr/local/lib/python3.7/dist-packages (from cffi>=1.12->cryptography->pdfminer.six) (2.21)\n",
            "Requirement already satisfied: nltk in /usr/local/lib/python3.7/dist-packages (3.2.5)\n",
            "Requirement already satisfied: six in /usr/local/lib/python3.7/dist-packages (from nltk) (1.15.0)\n",
            "[nltk_data] Downloading package punkt to /root/nltk_data...\n",
            "[nltk_data]   Package punkt is already up-to-date!\n",
            "[nltk_data] Downloading package averaged_perceptron_tagger to\n",
            "[nltk_data]     /root/nltk_data...\n",
            "[nltk_data]   Package averaged_perceptron_tagger is already up-to-\n",
            "[nltk_data]       date!\n",
            "[nltk_data] Downloading package maxent_ne_chunker to\n",
            "[nltk_data]     /root/nltk_data...\n",
            "[nltk_data]   Package maxent_ne_chunker is already up-to-date!\n",
            "[nltk_data] Downloading package words to /root/nltk_data...\n",
            "[nltk_data]   Package words is already up-to-date!\n"
          ]
        },
        {
          "output_type": "execute_result",
          "data": {
            "text/plain": [
              "True"
            ]
          },
          "metadata": {},
          "execution_count": 1
        }
      ],
      "source": [
        "!pip install pdfminer.six\n",
        "!pip install nltk\n",
        "\n",
        "import nltk\n",
        "nltk.download('punkt')\n",
        "nltk.download('averaged_perceptron_tagger')\n",
        "nltk.download('maxent_ne_chunker')\n",
        "nltk.download('words')"
      ]
    },
    {
      "cell_type": "code",
      "execution_count": 2,
      "metadata": {
        "id": "QdW7g9Wt39zN",
        "outputId": "c3c1ae8e-7d42-4046-8032-8385dc48117e",
        "colab": {
          "base_uri": "https://localhost:8080/"
        }
      },
      "outputs": [
        {
          "output_type": "stream",
          "name": "stdout",
          "text": [
            "[nltk_data] Downloading package stopwords to /root/nltk_data...\n",
            "[nltk_data]   Package stopwords is already up-to-date!\n"
          ]
        },
        {
          "output_type": "execute_result",
          "data": {
            "text/plain": [
              "True"
            ]
          },
          "metadata": {},
          "execution_count": 2
        }
      ],
      "source": [
        "from pdfminer.high_level import extract_text\n",
        "import nltk\n",
        "import re\n",
        "import subprocess\n",
        "nltk.download('stopwords')"
      ]
    },
    {
      "cell_type": "code",
      "source": [
        "import json"
      ],
      "metadata": {
        "id": "sOKOaM0aJIhf"
      },
      "execution_count": 3,
      "outputs": []
    },
    {
      "cell_type": "markdown",
      "metadata": {
        "id": "MZG_J-Ri39zQ"
      },
      "source": [
        "# Generating Text Data From PDF File"
      ]
    },
    {
      "cell_type": "code",
      "execution_count": 4,
      "metadata": {
        "id": "vD3ucJye39zR"
      },
      "outputs": [],
      "source": [
        "def extract_text_from_pdf(pdf_path):\n",
        "    text = extract_text(pdf_path)\n",
        "    return text\n",
        "\n",
        "txt = extract_text_from_pdf(\"/content/Rajat's Resume.pdf\")\n"
      ]
    },
    {
      "cell_type": "code",
      "execution_count": 5,
      "metadata": {
        "id": "-qxFjq-739zR",
        "outputId": "4d955c8a-7a65-4e11-ecee-c1684ba5c118",
        "colab": {
          "base_uri": "https://localhost:8080/"
        }
      },
      "outputs": [
        {
          "output_type": "stream",
          "name": "stdout",
          "text": [
            "Rajat Agarwaal\n",
            "Data Scientist\n",
            "Skilled Data Scientist with 2.5 years of experience executing data driven solutions to increase eﬃciency,\n",
            "accuracy and utility of internal data processing. Experienced at creating regression models, classiﬁcation\n",
            "models  using  predictive  modelling,  Computer  Vision  and  analyzing  data  mining  algorithms  to  deliver\n",
            "insights and implement action oriented solutions to complex business problems.\n",
            "\n",
            "rajatagarwaal30@gmail.com\n",
            "\n",
            "Ghaziabad (NCR Region), India\n",
            "\n",
            "linkedin.com/in/rajat-agarwaal\n",
            "\n",
            "WORK EXPERIENCE\n",
            "\n",
            "Machine Learning Engineer\n",
            "AgEYE Technologies\n",
            "01/2021 - Present, \n",
            "\n",
            "Achievements/Tasks\n",
            "\n",
            "09958168687\n",
            "\n",
            "30 March, 1994\n",
            "\n",
            "SKILLS\n",
            "\n",
            "Python\n",
            "\n",
            "C\n",
            "\n",
            "Machine Learning\n",
            "\n",
            "Deep Learning\n",
            "\n",
            "Bangalore, India\n",
            "\n",
            "Computer Vision\n",
            "\n",
            "Natural Language Processing\n",
            "\n",
            "SQL\n",
            "\n",
            "Pig\n",
            "\n",
            "Hive\n",
            "\n",
            "Basics of HDFS\n",
            "\n",
            "Undertaking data collection, preprocessing and analysis\n",
            "\n",
            "Building models to address business problems\n",
            "\n",
            "Statistical Analysis\n",
            "\n",
            "Gitlab\n",
            "\n",
            "Tableau\n",
            "\n",
            "Propose solutions and strategies to business challenges\n",
            "\n",
            "Worked on Machine Learning, Python and Computer Vision\n",
            "\n",
            "Decision Science Analytics Intern\n",
            "NiYO Solutions\n",
            "12/2019 - 06/2020, \n",
            "\n",
            "Achievements/Tasks\n",
            "\n",
            "Bangalore, India\n",
            "\n",
            "Built  machine  learning  solutions  to  solve  important  business\n",
            "problems\n",
            "\n",
            "Worked with Data Scientists and Engineers to deploy solutions to\n",
            "a production environment\n",
            "\n",
            "Collaborated  with  business  leaders,  subject  matter  experts,  and\n",
            "decision  makers  to  develop  success  criteria  and  optimize  new\n",
            "products, features and models\n",
            "\n",
            "Communicated  key  results  to  senior  management  in  verbal,\n",
            "visual, and written media\n",
            "\n",
            "Engineer\n",
            "Ericsson Global India Pvt. Ltd.\n",
            "10/2016 - 04/2018, \n",
            "\n",
            "Achievements/Tasks\n",
            "\n",
            "Noida, Uttar Pradesh\n",
            "\n",
            "Built  predictive  models  helpful  to  gain  business  insights  to  take\n",
            "important business decisions\n",
            "\n",
            "Applied ML techniques on the Telecom Customers data so to get\n",
            "a  deeper  understanding  of  the  customers  behavior  and  using\n",
            "those  insights  to  improvise  the  products  and  offerings  by  the\n",
            "company to its customers\n",
            "\n",
            "Worked on Python, ECMS, Machine Learning and SQL\n",
            "\n",
            "EDUCATION\n",
            "\n",
            "M. Tech in Data Science and Business Analytics\n",
            "Narsee Monjee Institute of Management Studies\n",
            "(NMIMS)\n",
            "07/2018 - 07/2020, \n",
            "\n",
            "Mumbai, Maharashtra\n",
            "\n",
            "PROJECTS\n",
            "\n",
            "Instance  and  Semantic  Segmentation  Using  UNET\n",
            " (04/2021 - Present)\n",
            "\n",
            "The task is to categorize the multiple plants in the same image\n",
            "using Instance Segmentation\n",
            "Also,  Edge  detection  was  performed  on  Leaf  Edges  of  Basil  and\n",
            "Lettuce plants so as to get the plant area and the leaf count, this\n",
            "task  is  also  performed  using  UNET  as  it  was  giving  the  good\n",
            "results\n",
            "\n",
            "Basil, Lettuce and Hemp Image Classiﬁcation\n",
            " (03/2021 - 03/2021)\n",
            "\n",
            "Here the task was to identify which plant is in the image\n",
            "By  doing  so,  the  corresponding  pipeline  of  actions  will  be\n",
            "triggered  so  as  to  get  the  tasks  done,  this  is  also  a  part  of  the\n",
            "product being developed for the farmers\n",
            "This task is accomplished with 95% accuracy using Custom CNN\n",
            "Architecture\n",
            "\n",
            "Classiﬁcation and Regression Models on the Multiple\n",
            "Plants Data (02/2021 - 03/2021)\n",
            "\n",
            "Here  the  task  was  to  predict  plant  parameters  like  Stem  Girth,\n",
            "Plant  Height,  Fresh  Weight,  Dry  Weight  and  Leaf  Count  using\n",
            "previous data\n",
            "The  above  regression  tasks  were  achieved  successfully  with  an\n",
            "Adjusted R-Squared value of 0.98\n",
            "Another  task  was  to  classify  between  Basil  and  Lettuce  Classes\n",
            "based on the numerical data collected, this task was successfully\n",
            "done with an accuracy of 94% using Stacking\n",
            "\n",
            "Customer Churn Analysis for Salary Advance Product\n",
            "and Segmentation Model for Targeted Marketing\n",
            " (01/2020 - 04/2020)\n",
            "\n",
            "Objective  was  to  identify  factors  leading  to  Customer  Churning.\n",
            "The  aim  was  to  predict  whether  the  NiYO  Bharat  Customer  will\n",
            "churn  or  not  in  future,  the  task  was  accomplished  with  an\n",
            "accuracy of 91% using Random Forests\n",
            "The utility of Customer Segmentation project is for the Marketing\n",
            "Team who wanted to launch a Targeted and Marketing Campaign\n",
            "by  dividing  the  Customers  into  four  distinct  segments,  this  task\n",
            "was achieved with a good Silhouette Score of 0.87\n",
            "\n",
            "B. Tech in Computer Science and Engineering\n",
            "Amity University\n",
            "07/2012 - 07/2016, \n",
            "\n",
            "Greater Noida, Uttar Pradesh\n",
            "\n",
            "ACHIEVEMENTS\n",
            "\n",
            "TCS iON ProCert “Analytics” Certiﬁed\n",
            "\n",
            "Gold Badge for both Python and Sql on Hacker Rank\n",
            "\n",
            "\f\n"
          ]
        }
      ],
      "source": [
        "print(txt)"
      ]
    },
    {
      "cell_type": "markdown",
      "metadata": {
        "id": "j86ySWed39zS"
      },
      "source": [
        "# Generating Name using NER"
      ]
    },
    {
      "cell_type": "code",
      "execution_count": 6,
      "metadata": {
        "id": "EPEXfuZY39zT"
      },
      "outputs": [],
      "source": [
        "def extract_names(txt):\n",
        "    person_names = []\n",
        "\n",
        "    for sent in nltk.sent_tokenize(txt):\n",
        "        for chunk in nltk.ne_chunk(nltk.pos_tag(nltk.word_tokenize(sent))):\n",
        "            if hasattr(chunk, 'label') and chunk.label() == 'PERSON':\n",
        "                person_names.append(\n",
        "                    ' '.join(chunk_leave[0] for chunk_leave in chunk.leaves())\n",
        "                )\n",
        "\n",
        "    return person_names"
      ]
    },
    {
      "cell_type": "code",
      "execution_count": 7,
      "metadata": {
        "id": "gXshg2Z139zV"
      },
      "outputs": [],
      "source": [
        "names = extract_names(txt)"
      ]
    },
    {
      "cell_type": "code",
      "execution_count": 8,
      "metadata": {
        "id": "CS1JgQuL39zW",
        "outputId": "a980a21f-b9e6-481b-b855-af7cc70744b6",
        "colab": {
          "base_uri": "https://localhost:8080/"
        }
      },
      "outputs": [
        {
          "output_type": "execute_result",
          "data": {
            "text/plain": [
              "['Rajat',\n",
              " 'Agarwaal Data Scientist Skilled Data Scientist',\n",
              " 'Machine Learning Engineer',\n",
              " 'Machine Learning Deep Learning Bangalore',\n",
              " 'Gitlab Tableau',\n",
              " 'Machine Learning',\n",
              " 'Python',\n",
              " 'Engineer Ericsson Global India Pvt',\n",
              " 'Uttar Pradesh Built',\n",
              " 'Applied ML',\n",
              " 'Machine Learning',\n",
              " 'Maharashtra PROJECTS Instance',\n",
              " 'Instance Segmentation',\n",
              " 'Basil',\n",
              " 'Lettuce',\n",
              " 'Hemp Image',\n",
              " 'Custom CNN Architecture',\n",
              " 'Stem Girth',\n",
              " 'Plant Height',\n",
              " 'Fresh Weight',\n",
              " 'Dry Weight',\n",
              " 'Basil',\n",
              " 'Lettuce Classes',\n",
              " 'Customer Churn Analysis',\n",
              " 'Salary Advance Product',\n",
              " 'Objective',\n",
              " 'Random',\n",
              " 'Marketing Campaign',\n",
              " 'Silhouette Score',\n",
              " 'Greater Noida',\n",
              " 'Uttar Pradesh',\n",
              " 'Python',\n",
              " 'Sql',\n",
              " 'Hacker Rank']"
            ]
          },
          "metadata": {},
          "execution_count": 8
        }
      ],
      "source": [
        "names"
      ]
    },
    {
      "cell_type": "code",
      "execution_count": 9,
      "metadata": {
        "id": "ilKtaP_H39zX"
      },
      "outputs": [],
      "source": [
        "name_candidate=names[0] + ' ' + names[1].split(' ')[0]"
      ]
    },
    {
      "cell_type": "markdown",
      "metadata": {
        "id": "TOzkRRxb39zX"
      },
      "source": [
        "# Extracting Phone Number"
      ]
    },
    {
      "cell_type": "code",
      "execution_count": 10,
      "metadata": {
        "id": "QSsfE-JJ39zY"
      },
      "outputs": [],
      "source": [
        "PHONE_REG_IND = re.compile(r'[\\+\\(]?[1-9][0-9 .\\-\\(\\)]{8,}[0-9]')\n",
        "\n",
        "PHONE_REG_USA = re.compile(r'/^\\(?(\\d{3})\\)?[-]?(\\d{3})[-]?(\\d{4})$/')"
      ]
    },
    {
      "cell_type": "code",
      "execution_count": 11,
      "metadata": {
        "id": "1RGD3CjU39zY",
        "outputId": "c7519618-9c5e-41a5-b1c2-d6f28d20b31e",
        "colab": {
          "base_uri": "https://localhost:8080/"
        }
      },
      "outputs": [
        {
          "output_type": "stream",
          "name": "stdout",
          "text": [
            "9958168687\n"
          ]
        }
      ],
      "source": [
        "def extract_phone_number(resume_text):\n",
        "    phone = re.findall(PHONE_REG_IND, resume_text)\n",
        "\n",
        "    if phone:\n",
        "        number = ''.join(phone[0])\n",
        "\n",
        "        if resume_text.find(number) >= 0 and len(number) < 16:\n",
        "            return number\n",
        "    return None\n",
        " \n",
        "phone_number_ind = extract_phone_number(txt)\n",
        "print(phone_number_ind)"
      ]
    },
    {
      "cell_type": "code",
      "execution_count": 12,
      "metadata": {
        "id": "gbw4bhsJ39zZ",
        "outputId": "d66035dd-0341-4f4b-e7d1-453437240d36",
        "colab": {
          "base_uri": "https://localhost:8080/"
        }
      },
      "outputs": [
        {
          "output_type": "stream",
          "name": "stdout",
          "text": [
            "None\n"
          ]
        }
      ],
      "source": [
        "def extract_phone_number(resume_text):\n",
        "    phone = re.findall(PHONE_REG_USA, resume_text)\n",
        "\n",
        "    if phone:\n",
        "        if resume_text.find(phone) >= 0:\n",
        "            return phone\n",
        "    return None\n",
        " \n",
        "phone_number_usa = extract_phone_number(txt)\n",
        "print(phone_number_usa)"
      ]
    },
    {
      "cell_type": "markdown",
      "metadata": {
        "id": "VsSVyEt539za"
      },
      "source": [
        "# Extracting EMAIL ID"
      ]
    },
    {
      "cell_type": "code",
      "execution_count": 13,
      "metadata": {
        "id": "emtHTu1N39zb"
      },
      "outputs": [],
      "source": [
        "EMAIL_REG = re.compile(r'[a-z0-9\\.\\-+_]+@[a-z0-9\\.\\-+_]+\\.[a-z]+')"
      ]
    },
    {
      "cell_type": "code",
      "execution_count": 14,
      "metadata": {
        "id": "BmcadhM039zb"
      },
      "outputs": [],
      "source": [
        "def extract_emails(resume_text):\n",
        "    return re.findall(EMAIL_REG, resume_text)\n"
      ]
    },
    {
      "cell_type": "code",
      "execution_count": 15,
      "metadata": {
        "id": "S0H34HA839zc",
        "outputId": "69831e12-95cb-47f9-fc38-b29ba06c6fe9",
        "colab": {
          "base_uri": "https://localhost:8080/"
        }
      },
      "outputs": [
        {
          "output_type": "stream",
          "name": "stdout",
          "text": [
            "['rajatagarwaal30@gmail.com']\n"
          ]
        }
      ],
      "source": [
        "emails = extract_emails(txt)\n",
        "\n",
        "if emails:\n",
        "    print(emails)\n",
        "    "
      ]
    },
    {
      "cell_type": "markdown",
      "source": [
        "#### General Info Dictionary"
      ],
      "metadata": {
        "id": "F0P3FTsKDlWt"
      }
    },
    {
      "cell_type": "code",
      "source": [
        "general_dict={ 'Name' : name_candidate.upper(),\n",
        "              'email' : emails ,\n",
        "              'contact' : phone_number_ind\n",
        "    \n",
        "}\n",
        "\n",
        "general_dict"
      ],
      "metadata": {
        "id": "hNVgj0Hf-z6j",
        "outputId": "d0cc3b11-7dd8-4242-d086-051827bce230",
        "colab": {
          "base_uri": "https://localhost:8080/"
        }
      },
      "execution_count": 16,
      "outputs": [
        {
          "output_type": "execute_result",
          "data": {
            "text/plain": [
              "{'Name': 'RAJAT AGARWAAL',\n",
              " 'contact': '9958168687',\n",
              " 'email': ['rajatagarwaal30@gmail.com']}"
            ]
          },
          "metadata": {},
          "execution_count": 16
        }
      ]
    },
    {
      "cell_type": "markdown",
      "metadata": {
        "id": "7ZecV6ce39zc"
      },
      "source": [
        "# Extracting Skills from the Text"
      ]
    },
    {
      "cell_type": "code",
      "source": [
        "import pandas as pd\n",
        "file_skills_domain=pd.read_excel('/content/ResumeSkill.xlsx')"
      ],
      "metadata": {
        "id": "F3j37wziPWtd"
      },
      "execution_count": 17,
      "outputs": []
    },
    {
      "cell_type": "code",
      "source": [
        "file_skills_domain.columns= file_skills_domain.columns.str.strip().str.upper()"
      ],
      "metadata": {
        "id": "5QPmEr54Q_TN"
      },
      "execution_count": 18,
      "outputs": []
    },
    {
      "cell_type": "code",
      "source": [
        "file_skills_domain.columns"
      ],
      "metadata": {
        "colab": {
          "base_uri": "https://localhost:8080/"
        },
        "id": "gVSWF8_9Ra_-",
        "outputId": "02dbe9e8-4d77-40f6-c0ba-8f5408896220"
      },
      "execution_count": 19,
      "outputs": [
        {
          "output_type": "execute_result",
          "data": {
            "text/plain": [
              "Index(['FRONT_END', 'BACK_END', 'MACHINE_LEARNING', 'DEVOPS',\n",
              "       'BUSINESS_INTELLIGENCE', 'EDUCATION'],\n",
              "      dtype='object')"
            ]
          },
          "metadata": {},
          "execution_count": 19
        }
      ]
    },
    {
      "cell_type": "code",
      "source": [
        "list_domains=[]\n",
        "for col in file_skills_domain.columns:\n",
        "  \n",
        "  file_skills_domain[col]=file_skills_domain[col].str.strip().str.upper()\n",
        "\n",
        "  if col != 'EDUCATION' :\n",
        "    list_domains.append('list_%s' % col)\n",
        "    globals()['list_%s' % col]= [x for x in file_skills_domain[col].to_list() if type(x) != float]"
      ],
      "metadata": {
        "id": "wITkOMqPPr5O"
      },
      "execution_count": 20,
      "outputs": []
    },
    {
      "cell_type": "code",
      "source": [
        "list_domains"
      ],
      "metadata": {
        "colab": {
          "base_uri": "https://localhost:8080/"
        },
        "id": "vuhZtVb2ULCp",
        "outputId": "a56a954a-5761-48bd-c8d8-348d2aae8421"
      },
      "execution_count": 21,
      "outputs": [
        {
          "output_type": "execute_result",
          "data": {
            "text/plain": [
              "['list_FRONT_END',\n",
              " 'list_BACK_END',\n",
              " 'list_MACHINE_LEARNING',\n",
              " 'list_DEVOPS',\n",
              " 'list_BUSINESS_INTELLIGENCE']"
            ]
          },
          "metadata": {},
          "execution_count": 21
        }
      ]
    },
    {
      "cell_type": "code",
      "source": [
        "list_skills=[]\n",
        "for i in list_domains:\n",
        "  list_skills=list_skills+eval(i)\n",
        "print(list_skills)"
      ],
      "metadata": {
        "colab": {
          "base_uri": "https://localhost:8080/"
        },
        "id": "i33PU2gcXTZJ",
        "outputId": "71b42ec2-2f4c-4336-f110-26ded97ec3ec"
      },
      "execution_count": 22,
      "outputs": [
        {
          "output_type": "stream",
          "name": "stdout",
          "text": [
            "['HTML/CSS', 'HTML', 'CSS', 'JAVASCRIPT', 'JAVASCRIPT', 'JQUERY', 'BOOTSTRAP', 'VERSION CONTROL/GIT', 'SASS', 'LESS', 'STYLUS', 'ANGULARJS', 'ES6', 'ANGULAR', 'REACT', 'VUE.JS', 'METEOR', 'NODE.JS', 'BACKBONE.JS', 'AURELIA', 'CHROME DEVTOOLS', 'AGILE/SCRUM', 'UI/UX', 'TYPESCRIPT', 'REACTJS', 'GITHUB', 'ES7', 'PHOTOSHOP', 'ADOBE ILLUSTRATOR', 'WORDPRESS', 'JQUERY', 'JAVA', 'PYTHON', 'RUBY', '.NET', 'C++', 'PERL', 'PHP', 'POSTGRES SQL', 'MYSQL', 'MONGODB', 'ORACLE', 'REDIS', 'SQL SERVER', 'DOCKER', 'KUBERNETES', 'NGINX', 'NODE.JS', 'APACHE', 'NGINX', 'IIS SERVERS', 'MICROSOFT IIS', 'REST API', 'SOAP API', 'EXPRESS.JS', 'PHOENIX (ELIXIR)', 'DJANGO', 'RUBY ON RAILS', 'LARAVEL', 'FLASK', 'ASP.NET CORE', 'SPRING MVC', 'CODEIGNITER', 'CAKEPHP', 'SYMFONY', 'PLAY FRAMEWORK', 'C#', 'GITHUB', 'MICROSERVICES', 'NPM', 'YARN', 'GRAPHQL', 'MOBX', 'REDUX', 'ORM', 'DYNAMODB', 'CICD', 'GITLAB', 'DOT NET', 'R', 'JAVA', 'PYTHON', 'C++', 'TORCH', 'THEANO', 'TENSORFLOW', 'SWIFT AI', 'SCIKIT-LEARN', 'PYBRAIN', 'KERAS', 'IBM WATSON', 'DEEPLEARNING4J', 'KNN', 'LINEAR REGRESSION', 'LOGISTIC REGRESSION', 'DECISION TREES', 'RANDOM FORESTS', 'SVM', 'K-NEAREST NEIGHBORS', 'XGBOOST', 'CLUSTERING', 'NEURAL NETWORKS', 'NAIVE BAYES', 'APACHE SPARK', 'HADOOP', 'SQL / NOSQL', 'NUMPY', 'PANDAS', 'PYTORCH', 'OPENCV', 'NLTK', 'BERT', 'LSTM', 'CNN', 'CAFFE', 'MXNET', 'MATPLOTLIB', 'AWS LAMBDA', 'MATLAB', 'COMPUTER VISION', 'GO', 'JAVA', 'NOSQL', 'SQL', 'KOTLIN', 'ANDROID STUDIO', 'ANDROID SDK', 'MATERIAL DESIGN', 'PYTHON', 'NODE.JS', 'C#', 'JAVASCRIPT', 'XML', 'FIREBASE', 'SQLITE', 'RDBMS', 'XCODE', 'JENKINS', 'DOCKER', 'KUBERNETES', 'TABLEAU', 'POWERBI', 'QLIK', 'GRAFANA', 'D3.JS']\n"
          ]
        }
      ]
    },
    {
      "cell_type": "code",
      "execution_count": 23,
      "metadata": {
        "id": "6khD6vOu39zd",
        "colab": {
          "base_uri": "https://localhost:8080/",
          "height": 70
        },
        "outputId": "7ff0f33c-3640-46c6-f19f-0ec10b69957a"
      },
      "outputs": [
        {
          "output_type": "execute_result",
          "data": {
            "application/vnd.google.colaboratory.intrinsic+json": {
              "type": "string"
            },
            "text/plain": [
              "\" SKILLS_DB = [\\n    'machine learning',\\n    'data science',\\n    'python',\\n    'word',\\n    'excel',\\n    'english',\\n    'sql',\\n    'deep learning',\\n    'nlp',\\n    'natural language processing',\\n    'computer vision',\\n    'pig',\\n    'statistical analysis',\\n    'gitlab',\\n    'tableau'\\n] \""
            ]
          },
          "metadata": {},
          "execution_count": 23
        }
      ],
      "source": [
        "\"\"\" SKILLS_DB = [\n",
        "    'machine learning',\n",
        "    'data science',\n",
        "    'python',\n",
        "    'word',\n",
        "    'excel',\n",
        "    'english',\n",
        "    'sql',\n",
        "    'deep learning',\n",
        "    'nlp',\n",
        "    'natural language processing',\n",
        "    'computer vision',\n",
        "    'pig',\n",
        "    'statistical analysis',\n",
        "    'gitlab',\n",
        "    'tableau'\n",
        "] \"\"\""
      ]
    },
    {
      "cell_type": "markdown",
      "source": [
        "### Skills Extraction Loop"
      ],
      "metadata": {
        "id": "_kC4qD7PDb9L"
      }
    },
    {
      "cell_type": "code",
      "execution_count": 24,
      "metadata": {
        "id": "LOiqw_8_39zd"
      },
      "outputs": [],
      "source": [
        "from collections import defaultdict\n",
        "skills_dict = {}\n",
        "domain_list=[]\n",
        "\n",
        "    \n",
        "\n",
        "\n",
        "def extract_skills(input_text):\n",
        "    stop_words = set(nltk.corpus.stopwords.words('english'))\n",
        "    word_tokens = nltk.tokenize.word_tokenize(input_text)\n",
        "\n",
        "    # remove the stop words\n",
        "    filtered_tokens = [w for w in word_tokens if w not in stop_words]\n",
        "\n",
        "    # remove the punctuation\n",
        "    filtered_tokens = [w for w in word_tokens if w.isalpha()]\n",
        "\n",
        "    # generate bigrams and trigrams (such as artificial intelligence)\n",
        "    bigrams_trigrams = list(map(' '.join, nltk.everygrams(filtered_tokens, 1, 3)))\n",
        "\n",
        "    # we create a set to keep the results in.\n",
        "    found_skills = set()\n",
        "\n",
        "    # we search for each token in our skills database\n",
        "    for token in filtered_tokens:\n",
        "        if token.upper() in list_skills:\n",
        "            found_skills.add(token)\n",
        "    \n",
        "    # we search for each bigram and trigram in our skills database\n",
        "    for ngram in bigrams_trigrams:\n",
        "        if ngram.upper() in list_skills:\n",
        "            found_skills.add(ngram)\n",
        "            \n",
        "#     print(found_skills)\n",
        "\n",
        "#     return found_skills\n",
        "    for skill in found_skills :\n",
        "      if skill.upper() not in skills_dict.keys():\n",
        "          skill = skill.upper()\n",
        "          cnt = 0\n",
        "          for i in bigrams_trigrams:\n",
        "              i = i.upper()\n",
        "              if skill in i:\n",
        "                  cnt += 1\n",
        "                  for j in list_domains:\n",
        "                    if skill in eval(j):\n",
        "                      domain_list.append(j)\n",
        "\n",
        "          print(skill.upper(), ' is repeated ' , cnt, ' times.')\n",
        "          skills_dict[skill.upper()]= cnt\n",
        "#     print(list(bigrams_trigrams))\n",
        "            "
      ]
    },
    {
      "cell_type": "code",
      "execution_count": 25,
      "metadata": {
        "id": "Tb5xilKk39ze",
        "outputId": "90573c6b-1e64-40cc-9ea4-46b82557feb2",
        "colab": {
          "base_uri": "https://localhost:8080/"
        }
      },
      "outputs": [
        {
          "output_type": "stream",
          "name": "stdout",
          "text": [
            "SQL  is repeated  18  times.\n",
            "GITLAB  is repeated  6  times.\n",
            "CNN  is repeated  6  times.\n",
            "RANDOM FORESTS  is repeated  3  times.\n",
            "PYTHON  is repeated  24  times.\n",
            "TABLEAU  is repeated  6  times.\n",
            "COMPUTER VISION  is repeated  9  times.\n"
          ]
        }
      ],
      "source": [
        "extract_skills(txt)\n",
        "\n",
        "# print(skills) "
      ]
    },
    {
      "cell_type": "code",
      "execution_count": 26,
      "metadata": {
        "id": "ZTM0oDUn39zg",
        "outputId": "fc9748bc-7d0f-4cad-b2d8-34ed0b050602",
        "colab": {
          "base_uri": "https://localhost:8080/"
        }
      },
      "outputs": [
        {
          "output_type": "execute_result",
          "data": {
            "text/plain": [
              "{'CNN': 6,\n",
              " 'COMPUTER VISION': 9,\n",
              " 'GITLAB': 6,\n",
              " 'PYTHON': 24,\n",
              " 'RANDOM FORESTS': 3,\n",
              " 'SQL': 18,\n",
              " 'TABLEAU': 6}"
            ]
          },
          "metadata": {},
          "execution_count": 26
        }
      ],
      "source": [
        "skills_dict"
      ]
    },
    {
      "cell_type": "code",
      "source": [
        "domain_list\n",
        "\n",
        "from collections import Counter\n",
        "\n",
        "# l = [\"India\", \"China\", \"China\", \"Japan\", \"USA\", \"India\", \"USA\"]\n",
        "\n",
        "new_vals = Counter(domain_list).most_common()\n",
        "new_vals = new_vals[::-1] #this sorts the list in ascending order\n",
        "\n",
        "for a, b in new_vals:\n",
        "    print(a, b)"
      ],
      "metadata": {
        "colab": {
          "base_uri": "https://localhost:8080/"
        },
        "id": "Sqt3JvKkfYcY",
        "outputId": "7ef25c81-4d1f-4b96-8234-248ec40c1d2c"
      },
      "execution_count": 27,
      "outputs": [
        {
          "output_type": "stream",
          "name": "stdout",
          "text": [
            "list_BUSINESS_INTELLIGENCE 6\n",
            "list_BACK_END 30\n",
            "list_MACHINE_LEARNING 42\n",
            "list_DEVOPS 42\n"
          ]
        }
      ]
    },
    {
      "cell_type": "code",
      "source": [
        "general_dict[\"skills\"]=skills_dict\n",
        "general_dict[\"domain\"]=[new_vals[-1][0][5:],new_vals[-2][0][5:]]"
      ],
      "metadata": {
        "id": "dC-RATEsBsOz"
      },
      "execution_count": 28,
      "outputs": []
    },
    {
      "cell_type": "markdown",
      "source": [
        "### Final Information"
      ],
      "metadata": {
        "id": "92Fm402pDHNZ"
      }
    },
    {
      "cell_type": "code",
      "source": [
        "general_dict"
      ],
      "metadata": {
        "id": "tutT0hmcCwa0",
        "outputId": "45eacfbd-1685-4cc5-8e0c-310c1c4cc55e",
        "colab": {
          "base_uri": "https://localhost:8080/"
        }
      },
      "execution_count": 29,
      "outputs": [
        {
          "output_type": "execute_result",
          "data": {
            "text/plain": [
              "{'Name': 'RAJAT AGARWAAL',\n",
              " 'contact': '9958168687',\n",
              " 'domain': ['DEVOPS', 'MACHINE_LEARNING'],\n",
              " 'email': ['rajatagarwaal30@gmail.com'],\n",
              " 'skills': {'CNN': 6,\n",
              "  'COMPUTER VISION': 9,\n",
              "  'GITLAB': 6,\n",
              "  'PYTHON': 24,\n",
              "  'RANDOM FORESTS': 3,\n",
              "  'SQL': 18,\n",
              "  'TABLEAU': 6}}"
            ]
          },
          "metadata": {},
          "execution_count": 29
        }
      ]
    },
    {
      "cell_type": "markdown",
      "source": [
        "#### Importing Base file to be written\n"
      ],
      "metadata": {
        "id": "m3zmuHnZO4zE"
      }
    },
    {
      "cell_type": "code",
      "source": [
        "with open('base.json', 'r') as openfile:\n",
        "  \n",
        "    # Reading from json file\n",
        "    json_object_ip = json.load(openfile)\n",
        "  \n",
        "print(json_object_ip)\n",
        "print(type(json_object_ip))"
      ],
      "metadata": {
        "colab": {
          "base_uri": "https://localhost:8080/"
        },
        "id": "Lke-ry42JOmv",
        "outputId": "303a652f-4102-4a69-f1ad-3f306d3b03f1"
      },
      "execution_count": 31,
      "outputs": [
        {
          "output_type": "stream",
          "name": "stdout",
          "text": [
            "{'id1': {'Name': 'RAJAT AGARWAAL', 'email': ['rajatagarwaal30@gmail.com'], 'contact': '9958168687', 'skills': {'STATISTICAL ANALYSIS': 3, 'SQL': 18, 'DEEP LEARNING': 3, 'TABLEAU': 6, 'MACHINE LEARNING': 15, 'GITLAB': 6, 'PYTHON': 24, 'DATA SCIENCE': 3, 'PIG': 6, 'NATURAL LANGUAGE PROCESSING': 1, 'COMPUTER VISION': 9}}}\n",
            "<class 'dict'>\n"
          ]
        }
      ]
    },
    {
      "cell_type": "code",
      "source": [
        "json_object_ip"
      ],
      "metadata": {
        "colab": {
          "base_uri": "https://localhost:8080/"
        },
        "id": "JFjJFNCQJtrM",
        "outputId": "3251903e-4bda-48a6-f76c-90732810dd75"
      },
      "execution_count": 32,
      "outputs": [
        {
          "output_type": "execute_result",
          "data": {
            "text/plain": [
              "{'id1': {'Name': 'RAJAT AGARWAAL',\n",
              "  'contact': '9958168687',\n",
              "  'email': ['rajatagarwaal30@gmail.com'],\n",
              "  'skills': {'COMPUTER VISION': 9,\n",
              "   'DATA SCIENCE': 3,\n",
              "   'DEEP LEARNING': 3,\n",
              "   'GITLAB': 6,\n",
              "   'MACHINE LEARNING': 15,\n",
              "   'NATURAL LANGUAGE PROCESSING': 1,\n",
              "   'PIG': 6,\n",
              "   'PYTHON': 24,\n",
              "   'SQL': 18,\n",
              "   'STATISTICAL ANALYSIS': 3,\n",
              "   'TABLEAU': 6}}}"
            ]
          },
          "metadata": {},
          "execution_count": 32
        }
      ]
    },
    {
      "cell_type": "code",
      "source": [
        "final_dict={}\n",
        "final_dict_temp={}\n",
        "new_id=len(json_object_ip.keys())+1\n",
        "#new_id=1\n",
        "print(\" Id number {0} is generated\".format(new_id))\n",
        "final_dict_temp['id'+str(new_id)]=general_dict\n",
        "\n",
        "final_dict={**json_object_ip , **final_dict_temp}"
      ],
      "metadata": {
        "colab": {
          "base_uri": "https://localhost:8080/"
        },
        "id": "e8jWzsGaKJVH",
        "outputId": "ad62076c-af34-41f9-fac7-151acb203c6b"
      },
      "execution_count": 33,
      "outputs": [
        {
          "output_type": "stream",
          "name": "stdout",
          "text": [
            " Id number 2 is generated\n"
          ]
        }
      ]
    },
    {
      "cell_type": "code",
      "source": [
        "\n",
        "final_dict"
      ],
      "metadata": {
        "colab": {
          "base_uri": "https://localhost:8080/"
        },
        "id": "AYJQoTvDLkVl",
        "outputId": "344198f5-24f7-47ae-841d-dcde0f244c58"
      },
      "execution_count": 34,
      "outputs": [
        {
          "output_type": "execute_result",
          "data": {
            "text/plain": [
              "{'id1': {'Name': 'RAJAT AGARWAAL',\n",
              "  'contact': '9958168687',\n",
              "  'email': ['rajatagarwaal30@gmail.com'],\n",
              "  'skills': {'COMPUTER VISION': 9,\n",
              "   'DATA SCIENCE': 3,\n",
              "   'DEEP LEARNING': 3,\n",
              "   'GITLAB': 6,\n",
              "   'MACHINE LEARNING': 15,\n",
              "   'NATURAL LANGUAGE PROCESSING': 1,\n",
              "   'PIG': 6,\n",
              "   'PYTHON': 24,\n",
              "   'SQL': 18,\n",
              "   'STATISTICAL ANALYSIS': 3,\n",
              "   'TABLEAU': 6}},\n",
              " 'id2': {'Name': 'RAJAT AGARWAAL',\n",
              "  'contact': '9958168687',\n",
              "  'domain': ['DEVOPS', 'MACHINE_LEARNING'],\n",
              "  'email': ['rajatagarwaal30@gmail.com'],\n",
              "  'skills': {'CNN': 6,\n",
              "   'COMPUTER VISION': 9,\n",
              "   'GITLAB': 6,\n",
              "   'PYTHON': 24,\n",
              "   'RANDOM FORESTS': 3,\n",
              "   'SQL': 18,\n",
              "   'TABLEAU': 6}}}"
            ]
          },
          "metadata": {},
          "execution_count": 34
        }
      ]
    },
    {
      "cell_type": "markdown",
      "source": [
        "### JSON Output after appending to base file"
      ],
      "metadata": {
        "id": "jndgXiTnOn5n"
      }
    },
    {
      "cell_type": "code",
      "execution_count": 35,
      "metadata": {
        "id": "3hz306LI39zg"
      },
      "outputs": [],
      "source": [
        "\n",
        "  \n",
        "# Serializing json \n",
        "json_object_op = json.dumps(final_dict, indent = 4)\n",
        "  \n",
        "# Writing to sample.json\n",
        "with open(\"base.json\", \"w\") as outfile:\n",
        "    outfile.write(json_object_op)"
      ]
    },
    {
      "cell_type": "code",
      "execution_count": 35,
      "metadata": {
        "id": "I9x2cf5739zg"
      },
      "outputs": [],
      "source": [
        ""
      ]
    },
    {
      "cell_type": "code",
      "execution_count": 35,
      "metadata": {
        "id": "TFMWEI2d39zh"
      },
      "outputs": [],
      "source": [
        ""
      ]
    },
    {
      "cell_type": "code",
      "execution_count": 35,
      "metadata": {
        "id": "DrJ2-4BS39zh"
      },
      "outputs": [],
      "source": [
        ""
      ]
    },
    {
      "cell_type": "code",
      "execution_count": 35,
      "metadata": {
        "id": "QYBH6arz39zj"
      },
      "outputs": [],
      "source": [
        ""
      ]
    },
    {
      "cell_type": "code",
      "execution_count": 35,
      "metadata": {
        "id": "XZ4J0D4T39zk"
      },
      "outputs": [],
      "source": [
        ""
      ]
    },
    {
      "cell_type": "code",
      "execution_count": 35,
      "metadata": {
        "id": "KN1uCaxA39zk"
      },
      "outputs": [],
      "source": [
        ""
      ]
    },
    {
      "cell_type": "code",
      "execution_count": 35,
      "metadata": {
        "id": "22VDZ1jK39zk"
      },
      "outputs": [],
      "source": [
        ""
      ]
    }
  ],
  "metadata": {
    "kernelspec": {
      "display_name": "Python 3",
      "language": "python",
      "name": "python3"
    },
    "language_info": {
      "codemirror_mode": {
        "name": "ipython",
        "version": 3
      },
      "file_extension": ".py",
      "mimetype": "text/x-python",
      "name": "python",
      "nbconvert_exporter": "python",
      "pygments_lexer": "ipython3",
      "version": "3.8.8"
    },
    "colab": {
      "name": "Latest CV Parser Notebook - 13th Dec 2021.ipynb",
      "provenance": [],
      "collapsed_sections": []
    }
  },
  "nbformat": 4,
  "nbformat_minor": 0
}