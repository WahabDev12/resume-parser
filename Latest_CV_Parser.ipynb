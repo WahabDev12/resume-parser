{
  "cells": [
    {
      "cell_type": "markdown",
      "metadata": {
        "id": "ru3TB6e039zC"
      },
      "source": [
        "# Dependencies and Required Packages"
      ]
    },
    {
      "cell_type": "code",
      "execution_count": 96,
      "metadata": {
        "colab": {
          "base_uri": "https://localhost:8080/"
        },
        "id": "rKUtY_y339zJ",
        "outputId": "95742498-8b37-43c3-da23-6c86db774a01"
      },
      "outputs": [
        {
          "name": "stderr",
          "output_type": "stream",
          "text": [
            "[nltk_data] Downloading package punkt to /home/shinobi/nltk_data...\n",
            "[nltk_data]   Package punkt is already up-to-date!\n",
            "[nltk_data] Downloading package averaged_perceptron_tagger to\n",
            "[nltk_data]     /home/shinobi/nltk_data...\n",
            "[nltk_data]   Package averaged_perceptron_tagger is already up-to-\n",
            "[nltk_data]       date!\n",
            "[nltk_data] Downloading package maxent_ne_chunker to\n",
            "[nltk_data]     /home/shinobi/nltk_data...\n",
            "[nltk_data]   Package maxent_ne_chunker is already up-to-date!\n",
            "[nltk_data] Downloading package words to /home/shinobi/nltk_data...\n",
            "[nltk_data]   Package words is already up-to-date!\n"
          ]
        }
      ],
      "source": [
        "import nltk\n",
        "nltk.download('punkt')\n",
        "nltk.download('averaged_perceptron_tagger')\n",
        "nltk.download('maxent_ne_chunker')\n",
        "nltk.download('words')\n",
        "import seaborn as sns"
      ]
    },
    {
      "cell_type": "code",
      "execution_count": 97,
      "metadata": {
        "colab": {
          "base_uri": "https://localhost:8080/"
        },
        "id": "QdW7g9Wt39zN",
        "outputId": "42c0df8f-ba33-4ca8-a753-0c9f6ed1bb65"
      },
      "outputs": [
        {
          "name": "stderr",
          "output_type": "stream",
          "text": [
            "[nltk_data] Downloading package stopwords to\n",
            "[nltk_data]     /home/shinobi/nltk_data...\n",
            "[nltk_data]   Package stopwords is already up-to-date!\n"
          ]
        },
        {
          "data": {
            "text/plain": [
              "True"
            ]
          },
          "execution_count": 97,
          "metadata": {},
          "output_type": "execute_result"
        }
      ],
      "source": [
        "from pdfminer.high_level import extract_text\n",
        "import nltk\n",
        "import re\n",
        "import subprocess\n",
        "nltk.download('stopwords')"
      ]
    },
    {
      "cell_type": "code",
      "execution_count": 98,
      "metadata": {
        "id": "sOKOaM0aJIhf"
      },
      "outputs": [],
      "source": [
        "import json"
      ]
    },
    {
      "cell_type": "markdown",
      "metadata": {
        "id": "MZG_J-Ri39zQ"
      },
      "source": [
        "# Generating Text Data From PDF File"
      ]
    },
    {
      "cell_type": "code",
      "execution_count": 99,
      "metadata": {
        "id": "ghV178fz_Qng"
      },
      "outputs": [],
      "source": [
        "filepath=\"./resume1.pdf\"\n"
      ]
    },
    {
      "cell_type": "code",
      "execution_count": 100,
      "metadata": {
        "id": "vD3ucJye39zR"
      },
      "outputs": [],
      "source": [
        "def extract_text_from_pdf(pdf_path):\n",
        "    text = extract_text(pdf_path)\n",
        "    return text\n",
        "\n",
        "txt = extract_text_from_pdf(filepath)\n"
      ]
    },
    {
      "cell_type": "code",
      "execution_count": 101,
      "metadata": {
        "colab": {
          "base_uri": "https://localhost:8080/"
        },
        "id": "-qxFjq-739zR",
        "outputId": "9e100465-32a6-485f-aba0-a407bc12cb5d"
      },
      "outputs": [
        {
          "name": "stdout",
          "output_type": "stream",
          "text": [
            "Rajat Agarwaal\n",
            "Data Scientist\n",
            "Skilled Data Scientist with 2.5 years of experience executing data driven solutions to increase eﬃciency,\n",
            "accuracy and utility of internal data processing. Experienced at creating regression models, classiﬁcation\n",
            "models  using  predictive  modelling,  Computer  Vision  and  analyzing  data  mining  algorithms  to  deliver\n",
            "insights and implement action oriented solutions to complex business problems.\n",
            "\n",
            "rajatagarwaal30@gmail.com\n",
            "\n",
            "Ghaziabad (NCR Region), India\n",
            "\n",
            "linkedin.com/in/rajat-agarwaal\n",
            "\n",
            "WORK EXPERIENCE\n",
            "\n",
            "Machine Learning Engineer\n",
            "AgEYE Technologies\n",
            "01/2021 - Present, \n",
            "\n",
            "Achievements/Tasks\n",
            "\n",
            "09958168687\n",
            "\n",
            "30 March, 1994\n",
            "\n",
            "SKILLS\n",
            "\n",
            "Python\n",
            "\n",
            "C\n",
            "\n",
            "Machine Learning\n",
            "\n",
            "Deep Learning\n",
            "\n",
            "Bangalore, India\n",
            "\n",
            "Computer Vision\n",
            "\n",
            "Natural Language Processing\n",
            "\n",
            "SQL\n",
            "\n",
            "Pig\n",
            "\n",
            "Hive\n",
            "\n",
            "Basics of HDFS\n",
            "\n",
            "Undertaking data collection, preprocessing and analysis\n",
            "\n",
            "Building models to address business problems\n",
            "\n",
            "Statistical Analysis\n",
            "\n",
            "Gitlab\n",
            "\n",
            "Tableau\n",
            "\n",
            "Propose solutions and strategies to business challenges\n",
            "\n",
            "Worked on Machine Learning, Python and Computer Vision\n",
            "\n",
            "Decision Science Analytics Intern\n",
            "NiYO Solutions\n",
            "12/2019 - 06/2020, \n",
            "\n",
            "Achievements/Tasks\n",
            "\n",
            "Bangalore, India\n",
            "\n",
            "Built  machine  learning  solutions  to  solve  important  business\n",
            "problems\n",
            "\n",
            "Worked with Data Scientists and Engineers to deploy solutions to\n",
            "a production environment\n",
            "\n",
            "Collaborated  with  business  leaders,  subject  matter  experts,  and\n",
            "decision  makers  to  develop  success  criteria  and  optimize  new\n",
            "products, features and models\n",
            "\n",
            "Communicated  key  results  to  senior  management  in  verbal,\n",
            "visual, and written media\n",
            "\n",
            "Engineer\n",
            "Ericsson Global India Pvt. Ltd.\n",
            "10/2016 - 04/2018, \n",
            "\n",
            "Achievements/Tasks\n",
            "\n",
            "Noida, Uttar Pradesh\n",
            "\n",
            "Built  predictive  models  helpful  to  gain  business  insights  to  take\n",
            "important business decisions\n",
            "\n",
            "Applied ML techniques on the Telecom Customers data so to get\n",
            "a  deeper  understanding  of  the  customers  behavior  and  using\n",
            "those  insights  to  improvise  the  products  and  offerings  by  the\n",
            "company to its customers\n",
            "\n",
            "Worked on Python, ECMS, Machine Learning and SQL\n",
            "\n",
            "EDUCATION\n",
            "\n",
            "M. Tech in Data Science and Business Analytics\n",
            "Narsee Monjee Institute of Management Studies\n",
            "(NMIMS)\n",
            "07/2018 - 07/2020, \n",
            "\n",
            "Mumbai, Maharashtra\n",
            "\n",
            "PROJECTS\n",
            "\n",
            "Instance  and  Semantic  Segmentation  Using  UNET\n",
            " (04/2021 - Present)\n",
            "\n",
            "The task is to categorize the multiple plants in the same image\n",
            "using Instance Segmentation\n",
            "Also,  Edge  detection  was  performed  on  Leaf  Edges  of  Basil  and\n",
            "Lettuce plants so as to get the plant area and the leaf count, this\n",
            "task  is  also  performed  using  UNET  as  it  was  giving  the  good\n",
            "results\n",
            "\n",
            "Basil, Lettuce and Hemp Image Classiﬁcation\n",
            " (03/2021 - 03/2021)\n",
            "\n",
            "Here the task was to identify which plant is in the image\n",
            "By  doing  so,  the  corresponding  pipeline  of  actions  will  be\n",
            "triggered  so  as  to  get  the  tasks  done,  this  is  also  a  part  of  the\n",
            "product being developed for the farmers\n",
            "This task is accomplished with 95% accuracy using Custom CNN\n",
            "Architecture\n",
            "\n",
            "Classiﬁcation and Regression Models on the Multiple\n",
            "Plants Data (02/2021 - 03/2021)\n",
            "\n",
            "Here  the  task  was  to  predict  plant  parameters  like  Stem  Girth,\n",
            "Plant  Height,  Fresh  Weight,  Dry  Weight  and  Leaf  Count  using\n",
            "previous data\n",
            "The  above  regression  tasks  were  achieved  successfully  with  an\n",
            "Adjusted R-Squared value of 0.98\n",
            "Another  task  was  to  classify  between  Basil  and  Lettuce  Classes\n",
            "based on the numerical data collected, this task was successfully\n",
            "done with an accuracy of 94% using Stacking\n",
            "\n",
            "Customer Churn Analysis for Salary Advance Product\n",
            "and Segmentation Model for Targeted Marketing\n",
            " (01/2020 - 04/2020)\n",
            "\n",
            "Objective  was  to  identify  factors  leading  to  Customer  Churning.\n",
            "The  aim  was  to  predict  whether  the  NiYO  Bharat  Customer  will\n",
            "churn  or  not  in  future,  the  task  was  accomplished  with  an\n",
            "accuracy of 91% using Random Forests\n",
            "The utility of Customer Segmentation project is for the Marketing\n",
            "Team who wanted to launch a Targeted and Marketing Campaign\n",
            "by  dividing  the  Customers  into  four  distinct  segments,  this  task\n",
            "was achieved with a good Silhouette Score of 0.87\n",
            "\n",
            "B. Tech in Computer Science and Engineering\n",
            "Amity University\n",
            "07/2012 - 07/2016, \n",
            "\n",
            "Greater Noida, Uttar Pradesh\n",
            "\n",
            "ACHIEVEMENTS\n",
            "\n",
            "TCS iON ProCert “Analytics” Certiﬁed\n",
            "\n",
            "Gold Badge for both Python and Sql on Hacker Rank\n",
            "\n",
            "\f\n"
          ]
        }
      ],
      "source": [
        "print(txt)"
      ]
    },
    {
      "cell_type": "markdown",
      "metadata": {
        "id": "j86ySWed39zS"
      },
      "source": [
        "# Generating Name using NER"
      ]
    },
    {
      "cell_type": "code",
      "execution_count": 102,
      "metadata": {
        "id": "EPEXfuZY39zT"
      },
      "outputs": [
        {
          "data": {
            "text/plain": [
              "['Rajat',\n",
              " 'Agarwaal Data Scientist Skilled Data Scientist',\n",
              " 'Machine Learning Engineer',\n",
              " 'Machine Learning Deep Learning Bangalore',\n",
              " 'Gitlab Tableau',\n",
              " 'Machine Learning',\n",
              " 'Python',\n",
              " 'Engineer Ericsson Global India Pvt',\n",
              " 'Uttar Pradesh Built',\n",
              " 'Applied ML',\n",
              " 'Machine Learning',\n",
              " 'Maharashtra PROJECTS Instance',\n",
              " 'Instance Segmentation',\n",
              " 'Basil',\n",
              " 'Lettuce',\n",
              " 'Hemp Image',\n",
              " 'Custom CNN Architecture',\n",
              " 'Stem Girth',\n",
              " 'Plant Height',\n",
              " 'Fresh Weight',\n",
              " 'Dry Weight',\n",
              " 'Basil',\n",
              " 'Lettuce Classes',\n",
              " 'Customer Churn Analysis',\n",
              " 'Salary Advance Product',\n",
              " 'Objective',\n",
              " 'Random',\n",
              " 'Marketing Campaign',\n",
              " 'Silhouette Score',\n",
              " 'Greater Noida',\n",
              " 'Uttar Pradesh',\n",
              " 'Python',\n",
              " 'Sql',\n",
              " 'Hacker Rank']"
            ]
          },
          "execution_count": 102,
          "metadata": {},
          "output_type": "execute_result"
        }
      ],
      "source": [
        "def extract_names(txt):\n",
        "    person_names = []\n",
        "\n",
        "    for sent in nltk.sent_tokenize(txt):\n",
        "        for chunk in nltk.ne_chunk(nltk.pos_tag(nltk.word_tokenize(sent))):\n",
        "            if hasattr(chunk, 'label') and chunk.label() == 'PERSON':\n",
        "                person_names.append(\n",
        "                    ' '.join(chunk_leave[0] for chunk_leave in chunk.leaves())\n",
        "                )\n",
        "\n",
        "    return person_names\n",
        "names = extract_names(txt)\n",
        "names"
      ]
    },
    {
      "cell_type": "code",
      "execution_count": 103,
      "metadata": {
        "id": "ilKtaP_H39zX"
      },
      "outputs": [],
      "source": [
        "name_candidate = names[0] + ' ' + names[1].split(' ')[0]"
      ]
    },
    {
      "cell_type": "markdown",
      "metadata": {
        "id": "TOzkRRxb39zX"
      },
      "source": [
        "# Extracting Phone Number"
      ]
    },
    {
      "cell_type": "code",
      "execution_count": 104,
      "metadata": {
        "id": "QSsfE-JJ39zY"
      },
      "outputs": [],
      "source": [
        "PHONE_REG_GH = re.compile(r'[\\+\\(]?[1-9][0-9 .\\-\\(\\)]{8,}[0-9]')\n",
        "\n",
        "PHONE_REG_USA = re.compile(r'/^\\(?(\\d{3})\\)?[-]?(\\d{3})[-]?(\\d{4})$/') "
      ]
    },
    {
      "cell_type": "code",
      "execution_count": 105,
      "metadata": {
        "colab": {
          "base_uri": "https://localhost:8080/"
        },
        "id": "1RGD3CjU39zY",
        "outputId": "bff1d70e-0687-4b88-e9a6-d918ac5dcfca"
      },
      "outputs": [
        {
          "name": "stdout",
          "output_type": "stream",
          "text": [
            "9958168687\n"
          ]
        }
      ],
      "source": [
        "def extract_phone_number(resume_text):\n",
        "    phone = re.findall(PHONE_REG_GH, resume_text)\n",
        "\n",
        "    if phone:\n",
        "        number = ''.join(phone[0])\n",
        "\n",
        "        if resume_text.find(number) >= 0 and len(number) < 16:\n",
        "            return number\n",
        "    return None\n",
        " \n",
        "phone_number_ind = extract_phone_number(txt)\n",
        "print(phone_number_ind)"
      ]
    },
    {
      "cell_type": "code",
      "execution_count": 106,
      "metadata": {
        "colab": {
          "base_uri": "https://localhost:8080/"
        },
        "id": "gbw4bhsJ39zZ",
        "outputId": "b852f863-5b10-4d31-fe15-40bb43702681"
      },
      "outputs": [
        {
          "name": "stdout",
          "output_type": "stream",
          "text": [
            "None\n"
          ]
        }
      ],
      "source": [
        "def extract_phone_number(resume_text):\n",
        "    phone = re.findall(PHONE_REG_USA, resume_text)\n",
        "\n",
        "    if phone:\n",
        "        if resume_text.find(phone) >= 0:\n",
        "            return phone\n",
        "    return None\n",
        " \n",
        "phone_number_usa = extract_phone_number(txt)\n",
        "print(phone_number_usa)"
      ]
    },
    {
      "cell_type": "code",
      "execution_count": 107,
      "metadata": {
        "colab": {
          "base_uri": "https://localhost:8080/"
        },
        "id": "ostzJ62HLnu-",
        "outputId": "0607cff3-9053-40fd-8092-2609972882fd"
      },
      "outputs": [
        {
          "data": {
            "text/plain": [
              "['9958168687']"
            ]
          },
          "execution_count": 107,
          "metadata": {},
          "output_type": "execute_result"
        }
      ],
      "source": [
        "phone_contact=[]\n",
        "if phone_number_ind != None:\n",
        "  phone_contact.append(phone_number_ind)\n",
        "if phone_number_usa != None:\n",
        "  phone_contact.append(phone_number_usa)\n",
        "\n",
        "phone_contact"
      ]
    },
    {
      "cell_type": "markdown",
      "metadata": {
        "id": "VsSVyEt539za"
      },
      "source": [
        "# Extracting EMAIL ID"
      ]
    },
    {
      "cell_type": "code",
      "execution_count": 108,
      "metadata": {
        "id": "emtHTu1N39zb"
      },
      "outputs": [],
      "source": [
        "EMAIL_REG = re.compile(r'[a-z0-9\\.\\-+_]+@[a-z0-9\\.\\-+_]+\\.[a-z]+')"
      ]
    },
    {
      "cell_type": "code",
      "execution_count": 109,
      "metadata": {
        "id": "BmcadhM039zb"
      },
      "outputs": [],
      "source": [
        "def extract_emails(resume_text):\n",
        "    return re.findall(EMAIL_REG, resume_text)\n"
      ]
    },
    {
      "cell_type": "code",
      "execution_count": 110,
      "metadata": {
        "colab": {
          "base_uri": "https://localhost:8080/"
        },
        "id": "S0H34HA839zc",
        "outputId": "3ff42758-b829-475a-9386-837de6349171"
      },
      "outputs": [
        {
          "name": "stdout",
          "output_type": "stream",
          "text": [
            "['rajatagarwaal30@gmail.com']\n"
          ]
        }
      ],
      "source": [
        "emails = extract_emails(txt)\n",
        "\n",
        "if emails:\n",
        "    print(emails)\n",
        "    "
      ]
    },
    {
      "cell_type": "markdown",
      "metadata": {
        "id": "F0P3FTsKDlWt"
      },
      "source": [
        "#### General Info Dictionary"
      ]
    },
    {
      "cell_type": "code",
      "execution_count": 111,
      "metadata": {
        "colab": {
          "base_uri": "https://localhost:8080/"
        },
        "id": "hNVgj0Hf-z6j",
        "outputId": "6ae1dfea-f939-4576-b5d1-ff7219a75356"
      },
      "outputs": [
        {
          "data": {
            "text/plain": [
              "{'Name': 'RAJAT AGARWAAL',\n",
              " 'Email': ['rajatagarwaal30@gmail.com'],\n",
              " 'Contact': ['9958168687']}"
            ]
          },
          "execution_count": 111,
          "metadata": {},
          "output_type": "execute_result"
        }
      ],
      "source": [
        "general_dict={ 'Name' : name_candidate.upper(),\n",
        "              'Email' : emails ,\n",
        "              'Contact' : phone_contact\n",
        "    \n",
        "}\n",
        "\n",
        "general_dict"
      ]
    },
    {
      "cell_type": "markdown",
      "metadata": {
        "id": "7ZecV6ce39zc"
      },
      "source": [
        "# Extracting Skills from the Text"
      ]
    },
    {
      "cell_type": "code",
      "execution_count": 112,
      "metadata": {
        "id": "F3j37wziPWtd"
      },
      "outputs": [],
      "source": [
        "import pandas as pd\n",
        "file_skills_domain = pd.read_excel('./ResumeSkill.xlsx')"
      ]
    },
    {
      "cell_type": "code",
      "execution_count": 113,
      "metadata": {
        "id": "5QPmEr54Q_TN"
      },
      "outputs": [],
      "source": [
        "file_skills_domain.columns = file_skills_domain.columns.str.strip().str.upper()"
      ]
    },
    {
      "cell_type": "code",
      "execution_count": 114,
      "metadata": {
        "colab": {
          "base_uri": "https://localhost:8080/"
        },
        "id": "gVSWF8_9Ra_-",
        "outputId": "79b22ac6-f758-4fde-ed90-481b44515212"
      },
      "outputs": [
        {
          "data": {
            "text/plain": [
              "Index(['FRONT_END', 'BACK_END', 'MACHINE_LEARNING', 'DEVOPS',\n",
              "       'BUSINESS_INTELLIGENCE', 'EDUCATION'],\n",
              "      dtype='object')"
            ]
          },
          "execution_count": 114,
          "metadata": {},
          "output_type": "execute_result"
        }
      ],
      "source": [
        "file_skills_domain.columns"
      ]
    },
    {
      "cell_type": "code",
      "execution_count": 115,
      "metadata": {
        "id": "wITkOMqPPr5O"
      },
      "outputs": [],
      "source": [
        "list_domains=[]\n",
        "for col in file_skills_domain.columns:\n",
        "  \n",
        "  file_skills_domain[col] = file_skills_domain[col].str.strip().str.upper()\n",
        "\n",
        "  if col != 'EDUCATION' :\n",
        "    list_domains.append('%s' % col)\n",
        "    globals()['%s' % col]= [x for x in file_skills_domain[col].to_list() if type(x) != float]"
      ]
    },
    {
      "cell_type": "code",
      "execution_count": 116,
      "metadata": {
        "colab": {
          "base_uri": "https://localhost:8080/"
        },
        "id": "vuhZtVb2ULCp",
        "outputId": "c2fa2180-2b20-42ee-807f-50585dfdb28c"
      },
      "outputs": [
        {
          "data": {
            "text/plain": [
              "['FRONT_END',\n",
              " 'BACK_END',\n",
              " 'MACHINE_LEARNING',\n",
              " 'DEVOPS',\n",
              " 'BUSINESS_INTELLIGENCE']"
            ]
          },
          "execution_count": 116,
          "metadata": {},
          "output_type": "execute_result"
        }
      ],
      "source": [
        "list_domains"
      ]
    },
    {
      "cell_type": "code",
      "execution_count": 117,
      "metadata": {
        "colab": {
          "base_uri": "https://localhost:8080/"
        },
        "id": "i33PU2gcXTZJ",
        "outputId": "7b80edf3-780c-4db5-8208-2a3c785423b4"
      },
      "outputs": [
        {
          "name": "stdout",
          "output_type": "stream",
          "text": [
            "['HTML/CSS', 'HTML', 'CSS', 'JAVASCRIPT', 'JAVASCRIPT', 'JQUERY', 'BOOTSTRAP', 'VERSION CONTROL/GIT', 'SASS', 'LESS', 'STYLUS', 'ANGULARJS', 'ES6', 'ANGULAR', 'REACT', 'VUE.JS', 'METEOR', 'NODE.JS', 'BACKBONE.JS', 'AURELIA', 'CHROME DEVTOOLS', 'AGILE/SCRUM', 'UI/UX', 'TYPESCRIPT', 'REACTJS', 'GITHUB', 'ES7', 'PHOTOSHOP', 'ADOBE ILLUSTRATOR', 'WORDPRESS', 'JQUERY', 'JAVA', 'PYTHON', 'RUBY', '.NET', 'C++', 'PERL', 'PHP', 'POSTGRES SQL', 'MYSQL', 'MONGODB', 'ORACLE', 'REDIS', 'SQL SERVER', 'DOCKER', 'KUBERNETES', 'NGINX', 'NODE.JS', 'APACHE', 'NGINX', 'IIS SERVERS', 'MICROSOFT IIS', 'REST API', 'SOAP API', 'EXPRESS.JS', 'PHOENIX (ELIXIR)', 'DJANGO', 'RUBY ON RAILS', 'LARAVEL', 'FLASK', 'ASP.NET CORE', 'SPRING MVC', 'CODEIGNITER', 'CAKEPHP', 'SYMFONY', 'PLAY FRAMEWORK', 'C#', 'GITHUB', 'MICROSERVICES', 'NPM', 'YARN', 'GRAPHQL', 'MOBX', 'REDUX', 'ORM', 'DYNAMODB', 'CICD', 'GITLAB', 'DOT NET', 'R', 'JAVA', 'PYTHON', 'C++', 'TORCH', 'THEANO', 'TENSORFLOW', 'SWIFT AI', 'SCIKIT-LEARN', 'PYBRAIN', 'KERAS', 'IBM WATSON', 'DEEPLEARNING4J', 'KNN', 'LINEAR REGRESSION', 'LOGISTIC REGRESSION', 'DECISION TREES', 'RANDOM FORESTS', 'SVM', 'K-NEAREST NEIGHBORS', 'XGBOOST', 'CLUSTERING', 'NEURAL NETWORKS', 'NAIVE BAYES', 'APACHE SPARK', 'HADOOP', 'SQL / NOSQL', 'NUMPY', 'PANDAS', 'PYTORCH', 'OPENCV', 'NLTK', 'BERT', 'LSTM', 'CNN', 'CAFFE', 'MXNET', 'MATPLOTLIB', 'AWS LAMBDA', 'MATLAB', 'COMPUTER VISION', 'GO', 'JAVA', 'NOSQL', 'SQL', 'KOTLIN', 'ANDROID STUDIO', 'ANDROID SDK', 'MATERIAL DESIGN', 'PYTHON', 'NODE.JS', 'C#', 'JAVASCRIPT', 'XML', 'FIREBASE', 'SQLITE', 'RDBMS', 'XCODE', 'JENKINS', 'DOCKER', 'KUBERNETES', 'TABLEAU', 'POWERBI', 'QLIK', 'GRAFANA', 'D3.JS']\n"
          ]
        }
      ],
      "source": [
        "list_skills = []\n",
        "for i in list_domains:\n",
        "  list_skills=list_skills + eval(i)\n",
        "print(list_skills)"
      ]
    },
    {
      "cell_type": "markdown",
      "metadata": {
        "id": "_kC4qD7PDb9L"
      },
      "source": [
        "### Skills Extraction Loop"
      ]
    },
    {
      "cell_type": "code",
      "execution_count": 118,
      "metadata": {
        "id": "LOiqw_8_39zd"
      },
      "outputs": [],
      "source": [
        "from collections import defaultdict\n",
        "skills_dict = {}\n",
        "domain_list = []\n",
        "\n",
        "\n",
        "def extract_skills(input_text):\n",
        "    stop_words = set(nltk.corpus.stopwords.words('english'))\n",
        "    word_tokens = nltk.tokenize.word_tokenize(input_text)\n",
        "\n",
        "    # remove the stop words\n",
        "    filtered_tokens = [w for w in word_tokens if w not in stop_words]\n",
        "\n",
        "    # remove the punctuation\n",
        "    filtered_tokens = [w for w in word_tokens if w.isalpha()]\n",
        "\n",
        "    # generate bigrams and trigrams (such as artificial intelligence)\n",
        "    bigrams_trigrams = list(map(' '.join, nltk.everygrams(filtered_tokens, 1, 3)))\n",
        "\n",
        "    # we create a set to keep the results in.\n",
        "    found_skills = set()\n",
        "\n",
        "    # we search for each token in our skills database\n",
        "    for token in filtered_tokens:\n",
        "        if token.upper() in list_skills:\n",
        "            found_skills.add(token)\n",
        "    \n",
        "    # we search for each bigram and trigram in our skills database\n",
        "    for ngram in bigrams_trigrams:\n",
        "        if ngram.upper() in list_skills:\n",
        "            found_skills.add(ngram)\n",
        "            \n",
        "\n",
        "    for skill in found_skills :\n",
        "      if skill.upper() not in skills_dict.keys():\n",
        "          skill = skill.upper()\n",
        "          cnt = 0\n",
        "          for i in bigrams_trigrams:\n",
        "              i = i.upper()\n",
        "              if skill in i:\n",
        "                  cnt += 1\n",
        "                  for j in list_domains:\n",
        "                    if skill in eval(j):\n",
        "                      domain_list.append(j)\n",
        "\n",
        "          print(skill.upper(), ' is repeated ' , cnt, ' times.')\n",
        "          skills_dict[skill.upper()]= cnt\n",
        "#     print(list(bigrams_trigrams))\n",
        "            "
      ]
    },
    {
      "cell_type": "code",
      "execution_count": 119,
      "metadata": {
        "colab": {
          "base_uri": "https://localhost:8080/"
        },
        "id": "Tb5xilKk39ze",
        "outputId": "798b87e7-136c-4648-918c-18ebabd32158"
      },
      "outputs": [
        {
          "name": "stdout",
          "output_type": "stream",
          "text": [
            "COMPUTER VISION  is repeated  9  times.\n",
            "SQL  is repeated  18  times.\n",
            "CNN  is repeated  6  times.\n",
            "PYTHON  is repeated  24  times.\n",
            "RANDOM FORESTS  is repeated  3  times.\n",
            "TABLEAU  is repeated  6  times.\n",
            "GITLAB  is repeated  6  times.\n"
          ]
        }
      ],
      "source": [
        "extract_skills(txt)\n",
        "\n",
        "# print(skills) "
      ]
    },
    {
      "cell_type": "code",
      "execution_count": 120,
      "metadata": {
        "colab": {
          "base_uri": "https://localhost:8080/"
        },
        "id": "ZTM0oDUn39zg",
        "outputId": "f816ac81-0b0d-44d8-a370-357eda6119e1"
      },
      "outputs": [
        {
          "data": {
            "text/plain": [
              "[Text(0.5, 0, 'Skills'),\n",
              " Text(0, 0.5, '% Proficiency'),\n",
              " Text(0.5, 1.0, 'SKILLS PROFICIENCY OF CANDIDATE ')]"
            ]
          },
          "execution_count": 120,
          "metadata": {},
          "output_type": "execute_result"
        },
        {
          "data": {
            "image/png": "[encoded data removed]",
            "text/plain": [
              "<Figure size 1080x576 with 1 Axes>"
            ]
          },
          "metadata": {
            "needs_background": "light"
          },
          "output_type": "display_data"
        }
      ],
      "source": [
        "from matplotlib import pyplot as plt\n",
        "plt.figure(figsize = (15,8))\n",
        "\n",
        "skills_dict\n",
        "my_df = pd.DataFrame(skills_dict.items())\n",
        "ax = sns.barplot(x = 0, y = 1, data = my_df)\n",
        "ax.set(xlabel = 'Skills', ylabel = '% Proficiency', title = 'SKILLS PROFICIENCY OF CANDIDATE ')\n"
      ]
    },
    {
      "cell_type": "code",
      "execution_count": 121,
      "metadata": {
        "colab": {
          "base_uri": "https://localhost:8080/"
        },
        "id": "Sqt3JvKkfYcY",
        "outputId": "89d5c32c-7369-443e-d3ab-3e7708707acc"
      },
      "outputs": [
        {
          "data": {
            "text/plain": [
              "[Text(0.5, 0, 'Domain'),\n",
              " Text(0, 0.5, '% Score'),\n",
              " Text(0.5, 1.0, 'FIELD SPECIALITY OF CANDIDATE')]"
            ]
          },
          "execution_count": 121,
          "metadata": {},
          "output_type": "execute_result"
        },
        {
          "data": {
            "image/png": "[encoded data removed]",
            "text/plain": [
              "<Figure size 792x504 with 1 Axes>"
            ]
          },
          "metadata": {
            "needs_background": "light"
          },
          "output_type": "display_data"
        }
      ],
      "source": [
        "domain_list\n",
        "\n",
        "from collections import Counter\n",
        "plt.figure(figsize=(11,7))\n",
        "\n",
        "\n",
        "new_vals = Counter(domain_list).most_common()\n",
        "new_vals = new_vals[::-1] #this sorts the list in ascending order\n",
        "\n",
        "domain_dict = {}\n",
        "for a, b in new_vals:\n",
        "    domain_dict[a] = b\n",
        " \n",
        "\n",
        "my_df = pd.DataFrame(domain_dict.items())\n",
        "ax = sns.barplot(x = 0, y = 1, data = my_df)\n",
        "ax.set(xlabel = 'Domain', ylabel = '% Score', title = 'FIELD SPECIALITY OF CANDIDATE')\n"
      ]
    },
    {
      "cell_type": "code",
      "execution_count": 122,
      "metadata": {
        "id": "dC-RATEsBsOz"
      },
      "outputs": [],
      "source": [
        "general_dict[\"skills\"] = skills_dict\n",
        "general_dict[\"domain\"] = [new_vals[-1][0],new_vals[-2][0]]"
      ]
    },
    {
      "cell_type": "markdown",
      "metadata": {
        "id": "92Fm402pDHNZ"
      },
      "source": [
        "### Final Information"
      ]
    },
    {
      "cell_type": "code",
      "execution_count": 123,
      "metadata": {
        "colab": {
          "base_uri": "https://localhost:8080/"
        },
        "id": "tutT0hmcCwa0",
        "outputId": "be306aae-7023-4a6c-fa85-1441551609f7"
      },
      "outputs": [
        {
          "data": {
            "text/plain": [
              "{'Name': 'RAJAT AGARWAAL',\n",
              " 'Email': ['rajatagarwaal30@gmail.com'],\n",
              " 'Contact': ['9958168687'],\n",
              " 'skills': {'COMPUTER VISION': 9,\n",
              "  'SQL': 18,\n",
              "  'CNN': 6,\n",
              "  'PYTHON': 24,\n",
              "  'RANDOM FORESTS': 3,\n",
              "  'TABLEAU': 6,\n",
              "  'GITLAB': 6},\n",
              " 'domain': ['MACHINE_LEARNING', 'DEVOPS']}"
            ]
          },
          "execution_count": 123,
          "metadata": {},
          "output_type": "execute_result"
        }
      ],
      "source": [
        "general_dict"
      ]
    },
    {
      "cell_type": "code",
      "execution_count": 124,
      "metadata": {
        "colab": {
          "base_uri": "https://localhost:8080/",
          "height": 697
        },
        "id": "Uo83dBDjCeot",
        "outputId": "b299a4ea-0baa-4fa3-9941-dfe472e6508f"
      },
      "outputs": [],
      "source": [
        "from pandas import json_normalize \n",
        "skill_df = json_normalize(general_dict['skills'])\n",
        "num = skill_df.sum(axis = 1)[0]\n",
        "\n",
        "list_details = []\n",
        "for skill_x in skill_df.columns:\n",
        "    list_details.append({'doc':filepath ,'Name' : name_candidate.upper(),\n",
        "              'email' : emails[0] ,\n",
        "              'contact' : phone_contact[0],\n",
        "              'domain':[new_vals[-1][0][5:],new_vals[-2][0][5:]],\n",
        "              'skills':skill_x ,\n",
        "              'normalised_count':round((skill_df[skill_x][0]*100)/num,2),\n",
        "              'total_skills':list(skill_df.columns)\n",
        "              })\n",
        "# pd.DataFrame(list_details)"
      ]
    },
    {
      "cell_type": "markdown",
      "metadata": {},
      "source": [
        "### Checking Similarity to Job Description"
      ]
    },
    {
      "cell_type": "code",
      "execution_count": 126,
      "metadata": {},
      "outputs": [
        {
          "name": "stdout",
          "output_type": "stream",
          "text": [
            "\\Similarity Score: \n",
            "[[1.         0.59722751]\n",
            " [0.59722751 1.        ]]\n",
            "\n",
            "The match percentage of the resume is  59.72 %\n"
          ]
        }
      ],
      "source": [
        "import docx2txt\n",
        "from sklearn.feature_extraction.text import CountVectorizer\n",
        "from sklearn.metrics.pairwise import cosine_similarity\n",
        "\n",
        "job_description = docx2txt.process(\"./job_desc.docx\")\n",
        "resume = docx2txt.process(\"./resume1.docx\")\n",
        "\n",
        "text = [resume, job_description]\n",
        "\n",
        "# Calculate similarity score \n",
        "cv = CountVectorizer()\n",
        "count_matrix = cv.fit_transform(text)\n",
        "print(\"\\Similarity Score: \")\n",
        "print(cosine_similarity(count_matrix))\n",
        "\n",
        "# Count match percentage\n",
        "match_percentage = cosine_similarity(count_matrix)[0][1] * 100\n",
        "match_percentage = round(match_percentage, 2)\n",
        "print()\n",
        "print(\"The match percentage of the resume is \", match_percentage,\"%\")\n"
      ]
    }
  ],
  "metadata": {
    "colab": {
      "collapsed_sections": [],
      "name": "Latest CV Parser Notebook - 13th Dec 2021.ipynb",
      "provenance": []
    },
    "kernelspec": {
      "display_name": "Python 3.10.6 64-bit",
      "language": "python",
      "name": "python3"
    },
    "language_info": {
      "codemirror_mode": {
        "name": "ipython",
        "version": 3
      },
      "file_extension": ".py",
      "mimetype": "text/x-python",
      "name": "python",
      "nbconvert_exporter": "python",
      "pygments_lexer": "ipython3",
      "version": "3.10.6"
    },
    "vscode": {
      "interpreter": {
        "hash": "916dbcbb3f70747c44a77c7bcd40155683ae19c65e1c03b4aa3499c5328201f1"
      }
    }
  },
  "nbformat": 4,
  "nbformat_minor": 0
}
