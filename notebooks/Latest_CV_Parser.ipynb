{
  "cells": [
    {
      "cell_type": "markdown",
      "metadata": {
        "id": "ru3TB6e039zC"
      },
      "source": [
        "# Dependencies and Required Packages"
      ]
    },
    {
      "cell_type": "code",
      "execution_count": null,
      "metadata": {
        "colab": {
          "base_uri": "https://localhost:8080/"
        },
        "id": "rKUtY_y339zJ",
        "outputId": "95742498-8b37-43c3-da23-6c86db774a01"
      },
      "outputs": [],
      "source": [
        "import nltk\n",
        "nltk.download('punkt')\n",
        "nltk.download('averaged_perceptron_tagger')\n",
        "nltk.download('maxent_ne_chunker')\n",
        "nltk.download('words')\n",
        "import seaborn as sns"
      ]
    },
    {
      "cell_type": "code",
      "execution_count": null,
      "metadata": {
        "colab": {
          "base_uri": "https://localhost:8080/"
        },
        "id": "QdW7g9Wt39zN",
        "outputId": "42c0df8f-ba33-4ca8-a753-0c9f6ed1bb65"
      },
      "outputs": [],
      "source": [
        "from pdfminer.high_level import extract_text\n",
        "import nltk\n",
        "import re\n",
        "import subprocess\n",
        "nltk.download('stopwords')"
      ]
    },
    {
      "cell_type": "code",
      "execution_count": null,
      "metadata": {
        "id": "sOKOaM0aJIhf"
      },
      "outputs": [],
      "source": [
        "import json"
      ]
    },
    {
      "cell_type": "markdown",
      "metadata": {
        "id": "MZG_J-Ri39zQ"
      },
      "source": [
        "# Generating Text Data From PDF File"
      ]
    },
    {
      "cell_type": "code",
      "execution_count": null,
      "metadata": {
        "id": "ghV178fz_Qng"
      },
      "outputs": [],
      "source": [
        "filepath=\"./resume1.pdf\"\n"
      ]
    },
    {
      "cell_type": "code",
      "execution_count": null,
      "metadata": {
        "id": "vD3ucJye39zR"
      },
      "outputs": [],
      "source": [
        "def extract_text_from_pdf(pdf_path):\n",
        "    text = extract_text(pdf_path)\n",
        "    return text\n",
        "\n",
        "txt = extract_text_from_pdf(filepath)\n"
      ]
    },
    {
      "cell_type": "code",
      "execution_count": null,
      "metadata": {
        "colab": {
          "base_uri": "https://localhost:8080/"
        },
        "id": "-qxFjq-739zR",
        "outputId": "9e100465-32a6-485f-aba0-a407bc12cb5d"
      },
      "outputs": [],
      "source": [
        "print(txt)"
      ]
    },
    {
      "cell_type": "markdown",
      "metadata": {
        "id": "j86ySWed39zS"
      },
      "source": [
        "# Generating Name using NER"
      ]
    },
    {
      "cell_type": "code",
      "execution_count": null,
      "metadata": {
        "id": "EPEXfuZY39zT"
      },
      "outputs": [],
      "source": [
        "def extract_names(txt):\n",
        "    person_names = []\n",
        "\n",
        "    for sent in nltk.sent_tokenize(txt):\n",
        "        for chunk in nltk.ne_chunk(nltk.pos_tag(nltk.word_tokenize(sent))):\n",
        "            if hasattr(chunk, 'label') and chunk.label() == 'PERSON':\n",
        "                person_names.append(\n",
        "                    ' '.join(chunk_leave[0] for chunk_leave in chunk.leaves())\n",
        "                )\n",
        "\n",
        "    return person_names\n",
        "names = extract_names(txt)\n",
        "names"
      ]
    },
    {
      "cell_type": "code",
      "execution_count": null,
      "metadata": {
        "id": "ilKtaP_H39zX"
      },
      "outputs": [],
      "source": [
        "name_candidate = names[0] + ' ' + names[1].split(' ')[0]"
      ]
    },
    {
      "cell_type": "markdown",
      "metadata": {
        "id": "TOzkRRxb39zX"
      },
      "source": [
        "# Extracting Phone Number"
      ]
    },
    {
      "cell_type": "code",
      "execution_count": null,
      "metadata": {
        "id": "QSsfE-JJ39zY"
      },
      "outputs": [],
      "source": [
        "PHONE_REG_GH = re.compile(r'[\\+\\(]?[1-9][0-9 .\\-\\(\\)]{8,}[0-9]')\n",
        "\n",
        "PHONE_REG_USA = re.compile(r'/^\\(?(\\d{3})\\)?[-]?(\\d{3})[-]?(\\d{4})$/') "
      ]
    },
    {
      "cell_type": "code",
      "execution_count": null,
      "metadata": {
        "colab": {
          "base_uri": "https://localhost:8080/"
        },
        "id": "1RGD3CjU39zY",
        "outputId": "bff1d70e-0687-4b88-e9a6-d918ac5dcfca"
      },
      "outputs": [],
      "source": [
        "def extract_phone_number(resume_text):\n",
        "    phone = re.findall(PHONE_REG_GH, resume_text)\n",
        "\n",
        "    if phone:\n",
        "        number = ''.join(phone[0])\n",
        "\n",
        "        if resume_text.find(number) >= 0 and len(number) < 16:\n",
        "            return number\n",
        "    return None\n",
        " \n",
        "phone_number_ind = extract_phone_number(txt)\n",
        "print(phone_number_ind)"
      ]
    },
    {
      "cell_type": "code",
      "execution_count": null,
      "metadata": {
        "colab": {
          "base_uri": "https://localhost:8080/"
        },
        "id": "gbw4bhsJ39zZ",
        "outputId": "b852f863-5b10-4d31-fe15-40bb43702681"
      },
      "outputs": [],
      "source": [
        "def extract_phone_number(resume_text):\n",
        "    phone = re.findall(PHONE_REG_USA, resume_text)\n",
        "\n",
        "    if phone:\n",
        "        if resume_text.find(phone) >= 0:\n",
        "            return phone\n",
        "    return None\n",
        " \n",
        "phone_number_usa = extract_phone_number(txt)\n",
        "print(phone_number_usa)"
      ]
    },
    {
      "cell_type": "code",
      "execution_count": null,
      "metadata": {
        "colab": {
          "base_uri": "https://localhost:8080/"
        },
        "id": "ostzJ62HLnu-",
        "outputId": "0607cff3-9053-40fd-8092-2609972882fd"
      },
      "outputs": [],
      "source": [
        "phone_contact=[]\n",
        "if phone_number_ind != None:\n",
        "  phone_contact.append(phone_number_ind)\n",
        "if phone_number_usa != None:\n",
        "  phone_contact.append(phone_number_usa)\n",
        "\n",
        "phone_contact"
      ]
    },
    {
      "cell_type": "markdown",
      "metadata": {
        "id": "VsSVyEt539za"
      },
      "source": [
        "# Extracting EMAIL ID"
      ]
    },
    {
      "cell_type": "code",
      "execution_count": null,
      "metadata": {
        "id": "emtHTu1N39zb"
      },
      "outputs": [],
      "source": [
        "EMAIL_REG = re.compile(r'[a-z0-9\\.\\-+_]+@[a-z0-9\\.\\-+_]+\\.[a-z]+')"
      ]
    },
    {
      "cell_type": "code",
      "execution_count": null,
      "metadata": {
        "id": "BmcadhM039zb"
      },
      "outputs": [],
      "source": [
        "def extract_emails(resume_text):\n",
        "    return re.findall(EMAIL_REG, resume_text)\n"
      ]
    },
    {
      "cell_type": "code",
      "execution_count": null,
      "metadata": {
        "colab": {
          "base_uri": "https://localhost:8080/"
        },
        "id": "S0H34HA839zc",
        "outputId": "3ff42758-b829-475a-9386-837de6349171"
      },
      "outputs": [],
      "source": [
        "emails = extract_emails(txt)\n",
        "\n",
        "if emails:\n",
        "    print(emails)\n",
        "    "
      ]
    },
    {
      "cell_type": "markdown",
      "metadata": {
        "id": "F0P3FTsKDlWt"
      },
      "source": [
        "#### General Info Dictionary"
      ]
    },
    {
      "cell_type": "code",
      "execution_count": null,
      "metadata": {
        "colab": {
          "base_uri": "https://localhost:8080/"
        },
        "id": "hNVgj0Hf-z6j",
        "outputId": "6ae1dfea-f939-4576-b5d1-ff7219a75356"
      },
      "outputs": [],
      "source": [
        "general_dict={ 'Name' : name_candidate.upper(),\n",
        "              'Email' : emails ,\n",
        "              'Contact' : phone_contact\n",
        "    \n",
        "}\n",
        "\n",
        "general_dict"
      ]
    },
    {
      "cell_type": "markdown",
      "metadata": {
        "id": "7ZecV6ce39zc"
      },
      "source": [
        "# Extracting Skills from the Text"
      ]
    },
    {
      "cell_type": "code",
      "execution_count": null,
      "metadata": {
        "id": "F3j37wziPWtd"
      },
      "outputs": [],
      "source": [
        "import pandas as pd\n",
        "file_skills_domain = pd.read_excel('./ResumeSkill.xlsx')"
      ]
    },
    {
      "cell_type": "code",
      "execution_count": null,
      "metadata": {
        "id": "5QPmEr54Q_TN"
      },
      "outputs": [],
      "source": [
        "file_skills_domain.columns = file_skills_domain.columns.str.strip().str.upper()"
      ]
    },
    {
      "cell_type": "code",
      "execution_count": null,
      "metadata": {
        "colab": {
          "base_uri": "https://localhost:8080/"
        },
        "id": "gVSWF8_9Ra_-",
        "outputId": "79b22ac6-f758-4fde-ed90-481b44515212"
      },
      "outputs": [],
      "source": [
        "file_skills_domain.columns"
      ]
    },
    {
      "cell_type": "code",
      "execution_count": null,
      "metadata": {
        "id": "wITkOMqPPr5O"
      },
      "outputs": [],
      "source": [
        "list_domains=[]\n",
        "for col in file_skills_domain.columns:\n",
        "  \n",
        "  file_skills_domain[col] = file_skills_domain[col].str.strip().str.upper()\n",
        "\n",
        "  if col != 'EDUCATION' :\n",
        "    list_domains.append('%s' % col)\n",
        "    globals()['%s' % col]= [x for x in file_skills_domain[col].to_list() if type(x) != float]"
      ]
    },
    {
      "cell_type": "code",
      "execution_count": null,
      "metadata": {
        "colab": {
          "base_uri": "https://localhost:8080/"
        },
        "id": "vuhZtVb2ULCp",
        "outputId": "c2fa2180-2b20-42ee-807f-50585dfdb28c"
      },
      "outputs": [],
      "source": [
        "list_domains"
      ]
    },
    {
      "cell_type": "code",
      "execution_count": null,
      "metadata": {
        "colab": {
          "base_uri": "https://localhost:8080/"
        },
        "id": "i33PU2gcXTZJ",
        "outputId": "7b80edf3-780c-4db5-8208-2a3c785423b4"
      },
      "outputs": [],
      "source": [
        "list_skills = []\n",
        "for i in list_domains:\n",
        "  list_skills=list_skills + eval(i)\n",
        "print(list_skills)"
      ]
    },
    {
      "cell_type": "markdown",
      "metadata": {
        "id": "_kC4qD7PDb9L"
      },
      "source": [
        "### Skills Extraction Loop"
      ]
    },
    {
      "cell_type": "code",
      "execution_count": null,
      "metadata": {
        "id": "LOiqw_8_39zd"
      },
      "outputs": [],
      "source": [
        "from collections import defaultdict\n",
        "skills_dict = {}\n",
        "domain_list = []\n",
        "\n",
        "\n",
        "def extract_skills(input_text):\n",
        "    stop_words = set(nltk.corpus.stopwords.words('english'))\n",
        "    word_tokens = nltk.tokenize.word_tokenize(input_text)\n",
        "\n",
        "    # remove the stop words\n",
        "    filtered_tokens = [w for w in word_tokens if w not in stop_words]\n",
        "\n",
        "    # remove the punctuation\n",
        "    filtered_tokens = [w for w in word_tokens if w.isalpha()]\n",
        "\n",
        "    # generate bigrams and trigrams (such as artificial intelligence)\n",
        "    bigrams_trigrams = list(map(' '.join, nltk.everygrams(filtered_tokens, 1, 3)))\n",
        "\n",
        "    # we create a set to keep the results in.\n",
        "    found_skills = set()\n",
        "\n",
        "    # we search for each token in our skills database\n",
        "    for token in filtered_tokens:\n",
        "        if token.upper() in list_skills:\n",
        "            found_skills.add(token)\n",
        "    \n",
        "    # we search for each bigram and trigram in our skills database\n",
        "    for ngram in bigrams_trigrams:\n",
        "        if ngram.upper() in list_skills:\n",
        "            found_skills.add(ngram)\n",
        "            \n",
        "\n",
        "    for skill in found_skills :\n",
        "      if skill.upper() not in skills_dict.keys():\n",
        "          skill = skill.upper()\n",
        "          cnt = 0\n",
        "          for i in bigrams_trigrams:\n",
        "              i = i.upper()\n",
        "              if skill in i:\n",
        "                  cnt += 1\n",
        "                  for j in list_domains:\n",
        "                    if skill in eval(j):\n",
        "                      domain_list.append(j)\n",
        "\n",
        "          print(skill.upper(), ' is repeated ' , cnt, ' times.')\n",
        "          skills_dict[skill.upper()]= cnt\n",
        "#     print(list(bigrams_trigrams))\n",
        "            "
      ]
    },
    {
      "cell_type": "code",
      "execution_count": null,
      "metadata": {
        "colab": {
          "base_uri": "https://localhost:8080/"
        },
        "id": "Tb5xilKk39ze",
        "outputId": "798b87e7-136c-4648-918c-18ebabd32158"
      },
      "outputs": [],
      "source": [
        "extract_skills(txt)\n",
        "\n",
        "# print(skills) "
      ]
    },
    {
      "cell_type": "code",
      "execution_count": null,
      "metadata": {
        "colab": {
          "base_uri": "https://localhost:8080/"
        },
        "id": "ZTM0oDUn39zg",
        "outputId": "f816ac81-0b0d-44d8-a370-357eda6119e1"
      },
      "outputs": [],
      "source": [
        "from matplotlib import pyplot as plt\n",
        "plt.figure(figsize = (15,8))\n",
        "\n",
        "skills_dict\n",
        "my_df = pd.DataFrame(skills_dict.items())\n",
        "ax = sns.barplot(x = 0, y = 1, data = my_df)\n",
        "ax.set(xlabel = 'Skills', ylabel = '% Proficiency', title = 'SKILLS PROFICIENCY OF CANDIDATE ')\n"
      ]
    },
    {
      "cell_type": "code",
      "execution_count": null,
      "metadata": {
        "colab": {
          "base_uri": "https://localhost:8080/"
        },
        "id": "Sqt3JvKkfYcY",
        "outputId": "89d5c32c-7369-443e-d3ab-3e7708707acc"
      },
      "outputs": [],
      "source": [
        "domain_list\n",
        "\n",
        "from collections import Counter\n",
        "plt.figure(figsize=(11,7))\n",
        "\n",
        "\n",
        "new_vals = Counter(domain_list).most_common()\n",
        "new_vals = new_vals[::-1] #this sorts the list in ascending order\n",
        "\n",
        "domain_dict = {}\n",
        "for a, b in new_vals:\n",
        "    domain_dict[a] = b\n",
        " \n",
        "\n",
        "my_df = pd.DataFrame(domain_dict.items())\n",
        "ax = sns.barplot(x = 0, y = 1, data = my_df)\n",
        "ax.set(xlabel = 'Domain', ylabel = '% Score', title = 'FIELD SPECIALITY OF CANDIDATE')\n"
      ]
    },
    {
      "cell_type": "code",
      "execution_count": null,
      "metadata": {
        "id": "dC-RATEsBsOz"
      },
      "outputs": [],
      "source": [
        "general_dict[\"skills\"] = skills_dict\n",
        "general_dict[\"domain\"] = [new_vals[-1][0],new_vals[-2][0]]"
      ]
    },
    {
      "cell_type": "markdown",
      "metadata": {
        "id": "92Fm402pDHNZ"
      },
      "source": [
        "### Final Information"
      ]
    },
    {
      "cell_type": "code",
      "execution_count": null,
      "metadata": {
        "colab": {
          "base_uri": "https://localhost:8080/"
        },
        "id": "tutT0hmcCwa0",
        "outputId": "be306aae-7023-4a6c-fa85-1441551609f7"
      },
      "outputs": [],
      "source": [
        "general_dict"
      ]
    },
    {
      "cell_type": "code",
      "execution_count": null,
      "metadata": {
        "colab": {
          "base_uri": "https://localhost:8080/",
          "height": 697
        },
        "id": "Uo83dBDjCeot",
        "outputId": "b299a4ea-0baa-4fa3-9941-dfe472e6508f"
      },
      "outputs": [],
      "source": [
        "from pandas import json_normalize \n",
        "skill_df = json_normalize(general_dict['skills'])\n",
        "num = skill_df.sum(axis = 1)[0]\n",
        "\n",
        "list_details = []\n",
        "for skill_x in skill_df.columns:\n",
        "    list_details.append({'doc':filepath ,'Name' : name_candidate.upper(),\n",
        "              'email' : emails[0] ,\n",
        "              'contact' : phone_contact[0],\n",
        "              'domain':[new_vals[-1][0][5:],new_vals[-2][0][5:]],\n",
        "              'skills':skill_x ,\n",
        "              'normalised_count':round((skill_df[skill_x][0]*100)/num,2),\n",
        "              'total_skills':list(skill_df.columns)\n",
        "              })\n",
        "# pd.DataFrame(list_details)"
      ]
    },
    {
      "cell_type": "markdown",
      "metadata": {},
      "source": [
        "### Checking Similarity to Job Description"
      ]
    },
    {
      "cell_type": "code",
      "execution_count": null,
      "metadata": {},
      "outputs": [],
      "source": [
        "import docx2txt\n",
        "from sklearn.feature_extraction.text import CountVectorizer\n",
        "from sklearn.metrics.pairwise import cosine_similarity\n",
        "\n",
        "job_description = docx2txt.process(\"./job_desc.docx\")\n",
        "resume = docx2txt.process(\"./resume1.docx\")\n",
        "\n",
        "text = [resume, job_description]\n",
        "\n",
        "# Calculate similarity score \n",
        "cv = CountVectorizer()\n",
        "count_matrix = cv.fit_transform(text)\n",
        "print(\"\\Similarity Score: \")\n",
        "print(cosine_similarity(count_matrix))\n",
        "\n",
        "# Count match percentage\n",
        "match_percentage = cosine_similarity(count_matrix)[0][1] * 100\n",
        "match_percentage = round(match_percentage, 2)\n",
        "print()\n",
        "print(\"The match percentage of the resume is \", match_percentage,\"%\")\n"
      ]
    }
  ],
  "metadata": {
    "colab": {
      "collapsed_sections": [],
      "name": "Latest CV Parser Notebook - 13th Dec 2021.ipynb",
      "provenance": []
    },
    "kernelspec": {
      "display_name": "Python 3.10.6 64-bit",
      "language": "python",
      "name": "python3"
    },
    "language_info": {
      "codemirror_mode": {
        "name": "ipython",
        "version": 3
      },
      "file_extension": ".py",
      "mimetype": "text/x-python",
      "name": "python",
      "nbconvert_exporter": "python",
      "pygments_lexer": "ipython3",
      "version": "3.10.6"
    },
    "vscode": {
      "interpreter": {
        "hash": "916dbcbb3f70747c44a77c7bcd40155683ae19c65e1c03b4aa3499c5328201f1"
      }
    }
  },
  "nbformat": 4,
  "nbformat_minor": 0
}
